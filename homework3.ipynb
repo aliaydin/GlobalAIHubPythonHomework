{
 "cells": [
  {
   "cell_type": "code",
   "execution_count": 53,
   "metadata": {},
   "outputs": [
    {
     "name": "stdout",
     "output_type": "stream",
     "text": [
      "Welcome to Hangman Game |-o<-< Try to guess hidden word by entering one letter a time. You have 9 rights in total. Lets play :D \n",
      "\n",
      " _ _ _ _ _ _\n",
      "\n"
     ]
    },
    {
     "name": "stdin",
     "output_type": "stream",
     "text": [
      "Make a guess: a\n"
     ]
    },
    {
     "name": "stdout",
     "output_type": "stream",
     "text": [
      "Right guess :)\n",
      " _ a _ a _ a\n",
      "\n"
     ]
    },
    {
     "name": "stdin",
     "output_type": "stream",
     "text": [
      "Make a guess: a\n"
     ]
    },
    {
     "name": "stdout",
     "output_type": "stream",
     "text": [
      "You have already entered the letter \"a\"\n",
      " _ a _ a _ a\n",
      "\n"
     ]
    },
    {
     "name": "stdin",
     "output_type": "stream",
     "text": [
      "Make a guess: q\n"
     ]
    },
    {
     "name": "stdout",
     "output_type": "stream",
     "text": [
      "Wrong guess :( You have 8 rights left !\n",
      " _ a _ a _ a\n",
      "\n"
     ]
    },
    {
     "name": "stdin",
     "output_type": "stream",
     "text": [
      "Make a guess: q\n"
     ]
    },
    {
     "name": "stdout",
     "output_type": "stream",
     "text": [
      "You have already entered the letter \"q\"\n",
      " _ a _ a _ a\n",
      "\n"
     ]
    },
    {
     "name": "stdin",
     "output_type": "stream",
     "text": [
      "Make a guess: w\n"
     ]
    },
    {
     "name": "stdout",
     "output_type": "stream",
     "text": [
      "Wrong guess :( You have 7 rights left !\n",
      " _ a _ a _ a\n",
      "\n"
     ]
    },
    {
     "name": "stdin",
     "output_type": "stream",
     "text": [
      "Make a guess: b\n"
     ]
    },
    {
     "name": "stdout",
     "output_type": "stream",
     "text": [
      "Right guess :)\n",
      " b a _ a _ a\n",
      "\n"
     ]
    },
    {
     "name": "stdin",
     "output_type": "stream",
     "text": [
      "Make a guess: n\n"
     ]
    },
    {
     "name": "stdout",
     "output_type": "stream",
     "text": [
      "Right guess :)\n",
      " b a n a n a\n",
      "\n",
      "*** You Win. Congratulations ***\n"
     ]
    }
   ],
   "source": [
    "#hangman\n",
    "import random as r\n",
    "\n",
    "words = ['mouse', 'bottle', 'apple', 'banana', 'python', 'developer']\n",
    "word = words[r.randint(0, len(words)-1)]\n",
    "rightGuesses = []\n",
    "wrongGuesses = []\n",
    "haveRight = 9 #this is the step count to draw a hanged man _|-o<-<\n",
    "letter = ''\n",
    "\n",
    "#convert word to a list and prevent dublicated letters\n",
    "wordList = list(dict.fromkeys(list(word)))\n",
    "wordList.sort()\n",
    "\n",
    "def getStatus():\n",
    "    result = ''\n",
    "    for i in word:\n",
    "        if i in rightGuesses:\n",
    "            result += ' '+i\n",
    "        else:\n",
    "            result += ' _'\n",
    "    return result + '\\n'\n",
    "\n",
    "print(f\"Welcome to Hangman Game |-o<-< Try to guess hidden word by entering one letter a time. You have {haveRight} rights in total. Lets play :D \\n\")\n",
    "\n",
    "while haveRight > 0:\n",
    "    print(getStatus())\n",
    "    letter = input('Make a guess:')\n",
    "    \n",
    "    if len(letter)==0 or len(letter)>1 or not letter.isalpha():\n",
    "        print('Invalid value! please enter 1 character.')\n",
    "        continue\n",
    "    \n",
    "    if letter in rightGuesses or letter in wrongGuesses:\n",
    "        print(f'You have already entered the letter \"{letter}\"')\n",
    "        continue\n",
    "        \n",
    "    if letter in word:\n",
    "        print(\"Right guess :)\")\n",
    "        rightGuesses.append(letter)\n",
    "        rightGuesses.sort()\n",
    "        if rightGuesses == wordList:\n",
    "            print(getStatus())\n",
    "            print('*** You Win. Congratulations ***')\n",
    "            break\n",
    "    else:\n",
    "        wrongGuesses.append(letter)\n",
    "        haveRight-=1\n",
    "        print(f'Wrong guess :( You have {haveRight} rights left !')\n",
    "\n",
    "if haveRight == 0:\n",
    "    print('\\nGame Over. You Loose')"
   ]
  },
  {
   "cell_type": "code",
   "execution_count": null,
   "metadata": {},
   "outputs": [],
   "source": []
  }
 ],
 "metadata": {
  "kernelspec": {
   "display_name": "Python 3",
   "language": "python",
   "name": "python3"
  },
  "language_info": {
   "codemirror_mode": {
    "name": "ipython",
    "version": 3
   },
   "file_extension": ".py",
   "mimetype": "text/x-python",
   "name": "python",
   "nbconvert_exporter": "python",
   "pygments_lexer": "ipython3",
   "version": "3.9.1"
  }
 },
 "nbformat": 4,
 "nbformat_minor": 4
}
