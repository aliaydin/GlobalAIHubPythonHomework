{
 "cells": [
  {
   "cell_type": "code",
   "execution_count": 1,
   "metadata": {},
   "outputs": [
    {
     "name": "stdin",
     "output_type": "stream",
     "text": [
      "Please enter an integer number (for example; 5) :  8\n",
      "Please enter a float number (for example; 1.2) :   3.14\n",
      "Please enter a string value (for example; python ) :  jupyter\n",
      "Please enter a boolean value (for example; true ) :  false\n",
      "Please enter a complex value (for example; 3j) :  5j\n"
     ]
    },
    {
     "name": "stdout",
     "output_type": "stream",
     "text": [
      "\n",
      "Integer value you entered is 8 and type of <class 'int'>\n",
      "Integer value you entered is 3.14 and type of <class 'float'>\n",
      "Integer value you entered is jupyter and type of <class 'str'>\n",
      "Integer value you entered is True and type of <class 'bool'>\n",
      "Integer value you entered is 5j and type of <class 'complex'>\n"
     ]
    }
   ],
   "source": [
    "variable1 = int(input(\"Please enter an integer number (for example; 5) : \"))\n",
    "variable2 = float(input(\"Please enter a float number (for example; 1.2) :  \"))\n",
    "variable3 = str(input(\"Please enter a string value (for example; python ) : \"))\n",
    "variable4 = bool(input(\"Please enter a boolean value (for example; true ) : \"))\n",
    "variable5 = complex(input(\"Please enter a complex value (for example; 3j) : \"))\n",
    "\n",
    "print(\"\\nInteger value you entered is {} and type of {}\".format(variable1, type(variable1)))\n",
    "print(\"Integer value you entered is {} and type of {}\".format(variable2, type(variable2)))\n",
    "print(\"Integer value you entered is {} and type of {}\".format(variable3, type(variable3)))\n",
    "print(\"Integer value you entered is {} and type of {}\".format(variable4, type(variable4)))\n",
    "print(\"Integer value you entered is {} and type of {}\".format(variable5, type(variable5)))"
   ]
  },
  {
   "cell_type": "code",
   "execution_count": null,
   "metadata": {},
   "outputs": [],
   "source": []
  }
 ],
 "metadata": {
  "kernelspec": {
   "display_name": "Python 3",
   "language": "python",
   "name": "python3"
  },
  "language_info": {
   "codemirror_mode": {
    "name": "ipython",
    "version": 3
   },
   "file_extension": ".py",
   "mimetype": "text/x-python",
   "name": "python",
   "nbconvert_exporter": "python",
   "pygments_lexer": "ipython3",
   "version": "3.9.1"
  }
 },
 "nbformat": 4,
 "nbformat_minor": 4
}
