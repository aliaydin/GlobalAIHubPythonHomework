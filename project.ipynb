{
 "cells": [
  {
   "cell_type": "code",
   "execution_count": null,
   "metadata": {},
   "outputs": [
    {
     "name": "stdin",
     "output_type": "stream",
     "text": [
      "\n",
      "Enter your first name : ali\n",
      "Enter your last  name : a\n"
     ]
    },
    {
     "name": "stdout",
     "output_type": "stream",
     "text": [
      "Invalid firstname or lastname. Try again\n"
     ]
    },
    {
     "name": "stdin",
     "output_type": "stream",
     "text": [
      "\n",
      "Enter your first name : ali\n",
      "Enter your last  name : aydin\n"
     ]
    },
    {
     "name": "stdout",
     "output_type": "stream",
     "text": [
      "\n",
      "Welcome ali aydin\n",
      "\n",
      "Enter minimum 3, maximum 5 courses. After entered 3 courses, you can enter empty to countinue\n"
     ]
    },
    {
     "name": "stdin",
     "output_type": "stream",
     "text": [
      "Course name 1: fizik\n",
      "Course name 2: kimya\n",
      "Course name 3: biyoloji\n",
      "Course name 4: matematik\n",
      "Course name 5: \n"
     ]
    },
    {
     "name": "stdout",
     "output_type": "stream",
     "text": [
      "\n",
      "You have 4 courses\n",
      "(1)fizik (2)kimya (3)biyoloji (4)matematik \n"
     ]
    },
    {
     "name": "stdin",
     "output_type": "stream",
     "text": [
      "Select a course to enter grades or show results if entered already : 2\n",
      "Enter Midterm Exam Result of course \"kimya\" : 80\n",
      "Enter Final Result of course \"kimya\" : 80\n",
      "Enter Project Result of course \"kimya\" : 80\n"
     ]
    },
    {
     "name": "stdout",
     "output_type": "stream",
     "text": [
      "\n",
      "Result for course \"kimya\";\n",
      "Your Note is \"BB\"\n",
      "\n",
      "You have 4 courses\n",
      "(1)fizik (2)kimya (3)biyoloji (4)matematik \n"
     ]
    },
    {
     "name": "stdin",
     "output_type": "stream",
     "text": [
      "Select a course to enter grades or show results if entered already : 1\n",
      "Enter Midterm Exam Result of course \"fizik\" : 90\n",
      "Enter Final Result of course \"fizik\" : 90\n",
      "Enter Project Result of course \"fizik\" : 100\n"
     ]
    },
    {
     "name": "stdout",
     "output_type": "stream",
     "text": [
      "\n",
      "Result for course \"fizik\";\n",
      "Your Note is \"AA\"\n",
      "\n",
      "You have 4 courses\n",
      "(1)fizik (2)kimya (3)biyoloji (4)matematik \n"
     ]
    },
    {
     "name": "stdin",
     "output_type": "stream",
     "text": [
      "Select a course to enter grades or show results if entered already : 2\n"
     ]
    },
    {
     "name": "stdout",
     "output_type": "stream",
     "text": [
      "\n",
      "Result for course \"kimya\";\n",
      "Your Note is \"BB\"\n",
      "\n",
      "You have 4 courses\n",
      "(1)fizik (2)kimya (3)biyoloji (4)matematik \n"
     ]
    }
   ],
   "source": [
    "#simple student management system\n",
    "\n",
    "student = {'firstname':'ali', 'lastname':'aydin'}\n",
    "courses = []\n",
    "results = {}\n",
    "loginAttempt = 3\n",
    "loggedIn = True\n",
    "\n",
    "def listCourses():\n",
    "    result = ''\n",
    "    print(f'\\nYou have {len(courses)} courses')\n",
    "    for i in range(len(courses)):\n",
    "        result += f'({i+1})' + courses[i] + ' '\n",
    "    print(result)\n",
    "    \n",
    "def showResult(course):\n",
    "    note = ''\n",
    "    print(f'\\nResult for course \"{courses[course]}\";')\n",
    "    total = results[course]['midterm']*0.3 + results[course]['final']*0.5 + results[course]['project']*0.2\n",
    "    \n",
    "    if total >= 90:\n",
    "        note = 'AA'\n",
    "    elif total >= 70 and total < 90:\n",
    "        note = 'BB'\n",
    "    elif total >= 50 and total < 70:\n",
    "        note = 'CC'\n",
    "    elif total >= 30 and total < 50:\n",
    "        note = 'DD'\n",
    "    elif total < 30:\n",
    "        note = 'FF'\n",
    "    \n",
    "    print(f'Your Note is \"{note}\"')\n",
    "    \n",
    "\n",
    "while loginAttempt > 0:\n",
    "    loginFirstName = input('\\nEnter your first name :')\n",
    "    loginLastName = input('Enter your last  name :')\n",
    "    if loginFirstName == student['firstname'] and loginLastName == student['lastname']:\n",
    "        print(f\"\\nWelcome {loginFirstName} {loginLastName}\")\n",
    "        loggedIn = True\n",
    "        break\n",
    "    else:\n",
    "        print('Invalid firstname or lastname. Try again')\n",
    "        loginAttempt -= 1\n",
    "  \n",
    "if loggedIn:\n",
    "    print(\"\\nEnter minimum 3, maximum 5 courses. After entered 3 courses, you can enter empty to countinue\")\n",
    "    \n",
    "    while True:\n",
    "        courseName = input(f'Course name {len(courses)+1}:')\n",
    "        \n",
    "        if len(courseName) > 0 and len(courses) < 5:\n",
    "            courses.append(courseName)\n",
    "        elif len(courseName) == 0 and len(courses) < 3:\n",
    "            print('Please enter at least 3 courses to continue')\n",
    "        else:\n",
    "            break\n",
    "            \n",
    "    while True:\n",
    "        listCourses()\n",
    "        choice = int(input('Select a course to enter grades or show results if entered already :'))\n",
    "        if choice > 0 and choice <= len(courses):\n",
    "            if choice-1 in results:\n",
    "                showResult(choice-1)\n",
    "            else:\n",
    "                midterm = int(input(f'Enter Midterm Exam Result of course \"{courses[choice-1]}\" :'))\n",
    "                final = int(input(f'Enter Final Result of course \"{courses[choice-1]}\" :'))\n",
    "                project = int(input(f'Enter Project Result of course \"{courses[choice-1]}\" :'))\n",
    "                results[choice-1] = {'midterm':midterm, 'final':final, 'project':project}\n",
    "                showResult(choice-1)\n",
    "                \n",
    "        else:\n",
    "            print('Invalid choice!!!')\n",
    "    \n",
    "elif loginAttempt == 0:\n",
    "    print('System shut down. Try again later')"
   ]
  },
  {
   "cell_type": "code",
   "execution_count": null,
   "metadata": {},
   "outputs": [],
   "source": []
  }
 ],
 "metadata": {
  "kernelspec": {
   "display_name": "Python 3",
   "language": "python",
   "name": "python3"
  },
  "language_info": {
   "codemirror_mode": {
    "name": "ipython",
    "version": 3
   },
   "file_extension": ".py",
   "mimetype": "text/x-python",
   "name": "python",
   "nbconvert_exporter": "python",
   "pygments_lexer": "ipython3",
   "version": "3.9.1"
  }
 },
 "nbformat": 4,
 "nbformat_minor": 4
}
