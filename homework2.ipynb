{
 "cells": [
  {
   "cell_type": "code",
   "execution_count": 17,
   "metadata": {},
   "outputs": [
    {
     "name": "stdin",
     "output_type": "stream",
     "text": [
      "Enter your firstname :  Ali\n",
      "Enter your lastname :  Aydın\n",
      "Enter your age :  40\n",
      "Enter your birth year :  1980\n"
     ]
    },
    {
     "name": "stdout",
     "output_type": "stream",
     "text": [
      "Ali\n",
      "Aydın\n",
      "40\n",
      "1980\n",
      "You can go out to the street.\n"
     ]
    }
   ],
   "source": [
    "#basic\n",
    "data = []\n",
    "\n",
    "firstName = input('Enter your firstname : ')\n",
    "lastName = input('Enter your lastname : ')\n",
    "age = int(input('Enter your age : '))\n",
    "birthYear = input('Enter your birth year : ') \n",
    "\n",
    "data.append(firstName)\n",
    "data.append(lastName)\n",
    "data.append(age)\n",
    "data.append(birthYear)\n",
    "\n",
    "for item in data:\n",
    "    print(item)\n",
    "\n",
    "if age < 18:\n",
    "    print(\"You can't go out because it's too dangerous!\")\n",
    "else:\n",
    "    print(\"You can go out to the street.\")"
   ]
  },
  {
   "cell_type": "code",
   "execution_count": 18,
   "metadata": {},
   "outputs": [
    {
     "name": "stdin",
     "output_type": "stream",
     "text": [
      "Enter your firstname :  Ali\n",
      "Enter your lastname :  Aydın\n",
      "Enter your birth year :  1980\n"
     ]
    },
    {
     "name": "stdout",
     "output_type": "stream",
     "text": [
      "Ali\n",
      "Aydın\n",
      "1980\n",
      "Your age is 40\n",
      "You can go out to the street.\n"
     ]
    }
   ],
   "source": [
    "#we could ask only birth year and calculate the age\n",
    "import datetime\n",
    "data = []\n",
    "\n",
    "data.append(input('Enter your firstname : '))\n",
    "data.append(input('Enter your lastname : '))\n",
    "data.append(int(input('Enter your birth year : ')))\n",
    "\n",
    "for item in data:\n",
    "    print(item)\n",
    "\n",
    "age = datetime.datetime.today().year - data[2]\n",
    "\n",
    "print(f\"Your age is {age}\")\n",
    "\n",
    "if age < 18:\n",
    "    print(\"You can't go out because it's too dangerous!\")\n",
    "else:\n",
    "    print(\"You can go out to the street.\")\n"
   ]
  }
 ],
 "metadata": {
  "kernelspec": {
   "display_name": "Python 3",
   "language": "python",
   "name": "python3"
  },
  "language_info": {
   "codemirror_mode": {
    "name": "ipython",
    "version": 3
   },
   "file_extension": ".py",
   "mimetype": "text/x-python",
   "name": "python",
   "nbconvert_exporter": "python",
   "pygments_lexer": "ipython3",
   "version": "3.9.1"
  }
 },
 "nbformat": 4,
 "nbformat_minor": 4
}
